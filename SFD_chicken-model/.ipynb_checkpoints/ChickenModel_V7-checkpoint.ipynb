{
 "cells": [
  {
   "cell_type": "markdown",
   "id": "9a4cd787",
   "metadata": {},
   "source": [
    "<div style=\"font-family: 'Arial', sans-serif; margin: 0px; padding: 30px; background-color: #FFF3CD; border-left: 5px solid #FFECB3; border-radius: 50px;\">\n",
    "    <h2 style=\"color: #856404; font-size: 24px; margin-top: 0;\">🐔 Chickens and Eggs: A System Dynamics Model 🥚</h2>\n",
    "    <p style=\"color: #6c757d; font-size: 16px;\">\n",
    "        Welcome to the interactive <strong>Chickens and Eggs</strong> model! This tool was designed by Robinson Salazar Rua and Peter Hovmand to help you understand the fascinating dynamics of a chicken population.\n",
    "    </p>\n",
    "    <p style=\"color: #6c757d; font-size: 16px;\">\n",
    "        In this model, you'll explore how different factors (such as fertility rate, death risk, and capacity level) affect the population of chickens in our virtual farm.\n",
    "    </p>\n",
    "    <h3 style=\"color: #856404; font-size: 18px;\"> Your Tasks:</h3>\n",
    "    <ul style=\"color: #6c757d; font-size: 16px;\">\n",
    "        <li><strong>Adjust the Parameters:</strong> Use the sliders to change the model initial conditions.</li>\n",
    "        <li><strong>Observe the Changes:</strong> Watch how these adjustments impact the chicken population over time.</li>\n",
    "        <li><strong>Discover the Dynamics:</strong> Notice the feedback loops and delays that characterize this system.</li>\n",
    "    </ul>\n",
    "    <p style=\"color: #6c757d; font-size: 16px;\">\n",
    "        By playing with these parameters, you'll gain insights into the principles of system dynamics and understand how even simple systems can exhibit complex behaviors. Enjoy your journey into the world of chickens and eggs!\n",
    "    </p>\n",
    "</div>\n"
   ]
  },
  {
   "cell_type": "code",
   "execution_count": 3,
   "id": "3fffec3e",
   "metadata": {},
   "outputs": [],
   "source": [
    "%%capture\n",
    "!pip install pysd\n",
    "!pip install netCDF4\n",
    "!pip install streamlit\n",
    "!pip install voila --user"
   ]
  },
  {
   "cell_type": "code",
   "execution_count": 4,
   "id": "44316690",
   "metadata": {},
   "outputs": [],
   "source": [
    "import streamlit as st\n",
    "import pysd\n",
    "import pandas as pd\n",
    "import numpy as np\n",
    "import matplotlib.pyplot as plt\n",
    "import os"
   ]
  },
  {
   "cell_type": "code",
   "execution_count": 5,
   "id": "21d96fbc",
   "metadata": {},
   "outputs": [],
   "source": [
    "os.chdir(\"C:/Users/rss188/Desktop/Chicken model/SFD chicken model\")"
   ]
  },
  {
   "cell_type": "code",
   "execution_count": 6,
   "id": "0df971f5",
   "metadata": {
    "scrolled": true
   },
   "outputs": [
    {
     "name": "stderr",
     "output_type": "stream",
     "text": [
      "2023-12-20 05:52:54.959 \n",
      "  \u001b[33m\u001b[1mWarning:\u001b[0m to view this Streamlit app on a browser, run it with the following\n",
      "  command:\n",
      "\n",
      "    streamlit run C:\\Users\\rss188\\AppData\\Local\\anaconda3\\Lib\\site-packages\\ipykernel_launcher.py [ARGUMENTS]\n"
     ]
    },
    {
     "data": {
      "text/plain": [
       "DeltaGenerator()"
      ]
     },
     "execution_count": 6,
     "metadata": {},
     "output_type": "execute_result"
    }
   ],
   "source": [
    "# Function to run the model\n",
    "def run_model(normal_fertility_rate, normal_death_risk, max_chicken_capacity, initial_chicken_population, initial_eggs_population):\n",
    "    model = pysd.read_vensim(\"C:/Users/rss188/Desktop/Chicken model/SFD chicken model/SFD chicken model V2.mdl\")\n",
    "    params = {\n",
    "        'Normal fertility rate': normal_fertility_rate,\n",
    "        'Normal death risk': normal_death_risk,\n",
    "        'Max chicken capacity': max_chicken_capacity,\n",
    "        'Initial chicken population': initial_chicken_population,\n",
    "        'Initial number of eggs': initial_eggs_population\n",
    "    }\n",
    "    return_columns = ['Chickens', 'Eggs', 'Births', 'Deaths']\n",
    "    return_timestamps = range(51)\n",
    "\n",
    "    results = model.run(params=params, return_columns=return_columns, return_timestamps=return_timestamps)\n",
    "    \n",
    "    return results\n",
    "\n",
    "# Streamlit UI\n",
    "st.title(\"Chicken Model Simulation\")"
   ]
  },
  {
   "cell_type": "code",
   "execution_count": 7,
   "id": "f4b0782a",
   "metadata": {},
   "outputs": [],
   "source": [
    "# Creating sliders\n",
    "normal_fertility_rate = st.slider(\"Normal Fertility Rate\", 0.0, 1.0, 0.2, 0.01)\n",
    "normal_death_risk = st.slider(\"Normal Death Risk\", 0.0, 1.0, 0.2, 0.01)\n",
    "max_chicken_capacity = st.slider(\"Max Chicken Capacity\", 0, 2000, 1000, 10)\n",
    "initial_chicken_population = st.slider(\"Initial Chicken Population\", 0, 4000, 1000, 10)\n",
    "initial_eggs_population = st.slider(\"Initial Number of Eggs\", 0, 2000, 1000, 10)\n",
    "\n",
    "# Button to run the model\n",
    "if st.button(\"Run Simulation\"):\n",
    "    results = run_model(normal_fertility_rate, normal_death_risk, max_chicken_capacity, initial_chicken_population, initial_eggs_population)\n",
    "\n",
    "    # Displaying the results\n",
    "    st.header(\"Simulation Results\")\n",
    "    \n",
    "    fig, ax = plt.subplots()\n",
    "    results['Chickens'].plot(ax=ax, figsize=(10, 5))\n",
    "    results['Eggs'].plot(ax=ax, figsize=(10, 5))\n",
    "    plt.xlabel('Time (Days)')\n",
    "    plt.ylabel('Number of Chickens and Eggs')\n",
    "    plt.legend(loc='upper left')\n",
    "    st.pyplot(fig)\n",
    "\n",
    "    fig, ax = plt.subplots()\n",
    "    results['Births'].plot(ax=ax, figsize=(10, 5), color='green', label='Births')\n",
    "    results['Deaths'].plot(ax=ax, figsize=(10, 5), color='red', label='Deaths')\n",
    "    plt.xlabel('Time (Days)')\n",
    "    plt.ylabel('Number of Chickens per Day')\n",
    "    plt.legend(loc='upper left')\n",
    "    st.pyplot(fig)\n",
    "\n",
    "    # Displaying a part of the DataFrame as a table\n",
    "    concatenated_results = pd.concat([results.head(6), results.tail(6)])\n",
    "    st.write(concatenated_results)"
   ]
  }
 ],
 "metadata": {
  "kernelspec": {
   "display_name": "Python 3 (ipykernel)",
   "language": "python",
   "name": "python3"
  },
  "language_info": {
   "codemirror_mode": {
    "name": "ipython",
    "version": 3
   },
   "file_extension": ".py",
   "mimetype": "text/x-python",
   "name": "python",
   "nbconvert_exporter": "python",
   "pygments_lexer": "ipython3",
   "version": "3.11.5"
  }
 },
 "nbformat": 4,
 "nbformat_minor": 5
}
