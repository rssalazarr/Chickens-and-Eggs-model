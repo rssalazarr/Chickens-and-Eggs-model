{
 "cells": [
  {
   "cell_type": "markdown",
   "id": "9a4cd787",
   "metadata": {},
   "source": [
    "<div style=\"font-family: 'Arial', sans-serif; margin: 0px; padding: 30px; background-color: #FFF3CD; border-left: 5px solid #FFECB3; border-radius: 50px;\">\n",
    "    <h2 style=\"color: #856404; font-size: 24px; margin-top: 0;\">🐔 Chickens and Eggs: A System Dynamics Model 🥚</h2>\n",
    "    <p style=\"color: #6c757d; font-size: 16px;\">\n",
    "        Welcome to the interactive <strong>Chickens and Eggs</strong> model! This tool was designed by Robinson Salazar Rua and Peter Hovmand to help you understand the fascinating dynamics of a chicken population.\n",
    "    </p>\n",
    "    <p style=\"color: #6c757d; font-size: 16px;\">\n",
    "        In this model, you'll explore how different factors (such as fertility rate, death risk, and capacity level) affect the population of chickens in our virtual farm.\n",
    "    </p>\n",
    "    <h3 style=\"color: #856404; font-size: 18px;\"> Your Tasks:</h3>\n",
    "    <ul style=\"color: #6c757d; font-size: 16px;\">\n",
    "        <li><strong>Adjust the Parameters:</strong> Use the sliders to change the model initial conditions.</li>\n",
    "        <li><strong>Observe the Changes:</strong> Watch how these adjustments impact the chicken population over time.</li>\n",
    "        <li><strong>Discover the Dynamics:</strong> Notice the feedback loops and delays that characterize this system.</li>\n",
    "    </ul>\n",
    "    <p style=\"color: #6c757d; font-size: 16px;\">\n",
    "        By playing with these parameters, you'll gain insights into the principles of system dynamics and understand how even simple systems can exhibit complex behaviors. Enjoy your journey into the world of chickens and eggs!\n",
    "    </p>\n",
    "</div>\n"
   ]
  },
  {
   "cell_type": "code",
   "execution_count": 1,
   "id": "3fffec3e",
   "metadata": {},
   "outputs": [],
   "source": [
    "%%capture\n",
    "!pip install pysd\n",
    "!pip install netCDF4\n",
    "!pip install voila --user"
   ]
  },
  {
   "cell_type": "code",
   "execution_count": 2,
   "id": "44316690",
   "metadata": {},
   "outputs": [],
   "source": [
    "import os\n",
    "import pysd\n",
    "import itertools\n",
    "import pandas as pd\n",
    "import numpy as np\n",
    "import matplotlib.pyplot as plt\n",
    "import ipywidgets as widgets\n",
    "from ipywidgets import HBox, VBox, Layout\n",
    "from IPython.display import display, HTML"
   ]
  },
  {
   "cell_type": "code",
   "execution_count": 3,
   "id": "21d96fbc",
   "metadata": {},
   "outputs": [],
   "source": [
    "os.chdir(\"C:/Users/rss188/Desktop/Chicken model/SFD chicken model\")"
   ]
  },
  {
   "cell_type": "code",
   "execution_count": 4,
   "id": "0df971f5",
   "metadata": {
    "scrolled": true
   },
   "outputs": [],
   "source": [
    "def run_model(normal_fertility_rate, normal_death_risk, max_chicken_capacity, initial_chicken_population, initial_eggs_population):\n",
    "    \n",
    "    model= pysd.read_vensim(\"C:/Users/rss188/Desktop/Chicken model/SFD chicken model/SFD chicken model V2.mdl\")\n",
    "    params = {'Normal fertility rate': normal_fertility_rate, 'Normal death risk': normal_death_risk, 'Max chicken capacity': max_chicken_capacity, 'Initial chicken population':initial_chicken_population, 'Initial number of eggs':initial_eggs_population}\n",
    "    return_columns = ['Chickens', 'Eggs', 'Births', 'Deaths']\n",
    "    return_timestamps = range(51)\n",
    "\n",
    "    results = model.run(params=params, return_columns=return_columns, return_timestamps=return_timestamps)\n",
    "    \n",
    "    display(HTML(\"<h2 style='margin: 0 0 15px 0; font-family: Comic Sans MS;'>Simulation Results</h2>\"))\n",
    "    \n",
    "    results['Chickens'].plot(figsize=(10, 5))\n",
    "    results['Eggs'].plot(figsize=(10, 5))\n",
    "    plt.xlabel('Time (Days)')\n",
    "    plt.ylabel('Number of Chickens and Eggs')\n",
    "    plt.legend(loc='upper left', bbox_to_anchor=(1, 1))\n",
    "    plt.tight_layout()\n",
    "    plt.show()\n",
    "    \n",
    "    results['Births'].plot(figsize=(10, 5), color='green', label='Births')\n",
    "    results['Deaths'].plot(figsize=(10, 5), color='red', label='Deaths')\n",
    "    plt.xlabel('Time (Days)')\n",
    "    plt.ylabel('Number of Chickens per Day')\n",
    "    plt.legend(loc='upper left', bbox_to_anchor=(1, 1))\n",
    "    plt.tight_layout()\n",
    "    plt.show()   \n",
    "    \n",
    "    concatenated_results = pd.concat([results.head(6), results.tail(6)])\n",
    "    concatenated_html = concatenated_results.to_html(classes='table table-striped')\n",
    "    \n",
    "    styled_html = f\"\"\"\n",
    "    <div style='margin: auto; width: 100%; padding: 5px;'>\n",
    "        {concatenated_html}\n",
    "    </div>\n",
    "    \"\"\"\n",
    "    display(HTML(styled_html))"
   ]
  },
  {
   "cell_type": "code",
   "execution_count": 5,
   "id": "f4b0782a",
   "metadata": {},
   "outputs": [
    {
     "data": {
      "text/html": [
       "<h2 style='margin: 0 0 15px 0; font-family: Comic Sans MS;'>Parameters</h2>"
      ],
      "text/plain": [
       "<IPython.core.display.HTML object>"
      ]
     },
     "metadata": {},
     "output_type": "display_data"
    },
    {
     "data": {
      "application/vnd.jupyter.widget-view+json": {
       "model_id": "d52d398b89a84d1a9b27b98e61cd43d4",
       "version_major": 2,
       "version_minor": 0
      },
      "text/plain": [
       "HBox(children=(VBox(children=(FloatSlider(value=0.2, description='Normal Fertility Rate', layout=Layout(height…"
      ]
     },
     "metadata": {},
     "output_type": "display_data"
    },
    {
     "data": {
      "application/vnd.jupyter.widget-view+json": {
       "model_id": "1d6e74a64c37498fb915bd554d9fa7be",
       "version_major": 2,
       "version_minor": 0
      },
      "text/plain": [
       "Output()"
      ]
     },
     "metadata": {},
     "output_type": "display_data"
    }
   ],
   "source": [
    "# Create a title widget\n",
    "title = HTML(\"<h2 style='margin: 0 0 15px 0; font-family: Comic Sans MS;'>Parameters</h2>\")\n",
    "\n",
    "# Common layout settings for all sliders\n",
    "slider_layout = widgets.Layout(width='300px', height='100px', margin='0 0 5px 0')\n",
    "\n",
    "# Slider style\n",
    "slider_style = {'handle_color': '#856404', 'description_width': 'initial'}\n",
    "\n",
    "# Define a custom style for the slider descriptions\n",
    "description_style = {'description_font': 'Comic Sans MS'}\n",
    "\n",
    "# Create the sliders\n",
    "fertility_rate_slider = widgets.FloatSlider(\n",
    "    value=0.2, min=0, max=1, step=0.01,\n",
    "    description='Normal Fertility Rate', style=slider_style, layout=slider_layout, description_style=description_style\n",
    ")\n",
    "\n",
    "death_risk_slider = widgets.FloatSlider(\n",
    "    value=0.2, min=0, max=1.0, step=0.01,\n",
    "    description='Normal Death Risk', style=slider_style, layout=slider_layout, description_style=description_style\n",
    ")\n",
    "\n",
    "max_chicken_capacity_slider = widgets.FloatSlider(\n",
    "    value=1000, min=0, max=2000, step=10,\n",
    "    description='Max Chicken Capacity', style=slider_style, layout=slider_layout, description_style=description_style\n",
    ")\n",
    "\n",
    "initial_chicken_population_slider = widgets.FloatSlider(\n",
    "    value=1000, min=0, max=4000, step=10,\n",
    "    description='Initial Chicken Population', style=slider_style, layout=slider_layout, description_style=description_style\n",
    ")\n",
    "\n",
    "initial_eggs_population_slider = widgets.FloatSlider(\n",
    "    value=1000, min=0, max=2000, step=10,\n",
    "    description='Initial Number of Eggs', style=slider_style, layout=slider_layout, description_style=description_style\n",
    ")\n",
    "\n",
    "# Define the reset function\n",
    "def reset_sliders(b):\n",
    "    fertility_rate_slider.value = 0.2\n",
    "    death_risk_slider.value = 0.2\n",
    "    max_chicken_capacity_slider.value = 1000\n",
    "    initial_chicken_population_slider.value = 1000\n",
    "    initial_eggs_population_slider.value = 1000\n",
    "\n",
    "# Create the reset button\n",
    "reset_button = widgets.Button(\n",
    "    description='Reset All',\n",
    "    button_style='success', # 'success', 'info', 'warning', 'danger' or ''\n",
    "    tooltip='Click here to reset all the inputs and outputs to their initial values',\n",
    "    icon='refresh', # FontAwesome icon name\n",
    "    layout=widgets.Layout(width='200px', height='40px', margin='10px')  # Adjust the width, height, and margin as needed\n",
    ")\n",
    "\n",
    "# Link the button to the reset function\n",
    "reset_button.on_click(reset_sliders)\n",
    "\n",
    "# Organize the sliders into two columns\n",
    "left_column = widgets.VBox([fertility_rate_slider, death_risk_slider, max_chicken_capacity_slider], layout=slider_layout)\n",
    "right_column = widgets.VBox([initial_chicken_population_slider, initial_eggs_population_slider], layout=slider_layout)\n",
    "\n",
    "controls = HBox([left_column, right_column, reset_button])\n",
    "\n",
    "# Link sliders to the model function\n",
    "interactive_output_widget = widgets.interactive_output(run_model, {\n",
    "    'normal_fertility_rate': fertility_rate_slider,\n",
    "    'normal_death_risk': death_risk_slider,\n",
    "    'max_chicken_capacity': max_chicken_capacity_slider,\n",
    "    'initial_chicken_population': initial_chicken_population_slider,\n",
    "    'initial_eggs_population': initial_eggs_population_slider\n",
    "})\n",
    "\n",
    "# Display the columns side by side\n",
    "display(title, controls, interactive_output_widget)"
   ]
  }
 ],
 "metadata": {
  "kernelspec": {
   "display_name": "Python 3 (ipykernel)",
   "language": "python",
   "name": "python3"
  },
  "language_info": {
   "codemirror_mode": {
    "name": "ipython",
    "version": 3
   },
   "file_extension": ".py",
   "mimetype": "text/x-python",
   "name": "python",
   "nbconvert_exporter": "python",
   "pygments_lexer": "ipython3",
   "version": "3.11.5"
  }
 },
 "nbformat": 4,
 "nbformat_minor": 5
}
