{
 "cells": [
  {
   "cell_type": "markdown",
   "id": "9a4cd787",
   "metadata": {},
   "source": [
    "<div style=\"font-family: 'Arial', sans-serif; margin: 20px; padding: 15px; background-color: #FFF3CD; border-left: 5px solid #FFECB3; border-radius: 5px;\">\n",
    "    <h2 style=\"color: #856404; font-size: 24px; margin-top: 0;\">🐔 Chickens and Eggs: A System Dynamics Model 🥚</h2>\n",
    "    <p style=\"color: #6c757d; font-size: 16px;\">\n",
    "        Welcome to the interactive <strong>Chickens and Eggs</strong> model! This tool was designed by Robinson Salazar Rua and Peter Hovmand to help you understand the fascinating dynamics of a chicken population.\n",
    "    </p>\n",
    "    <p style=\"color: #6c757d; font-size: 16px;\">\n",
    "        In this model, you'll explore how different factors, such as fertility rate, death risk, and capacity, affect the population of chickens in our virtual farm.\n",
    "    </p>\n",
    "    <h3 style=\"color: #856404; font-size: 18px;\"> Your Tasks:</h3>\n",
    "    <ul style=\"color: #6c757d; font-size: 16px;\">\n",
    "        <li><strong>Adjust the Parameters:</strong> Use the sliders to change the model initial conditions.</li>\n",
    "        <li><strong>Observe the Changes:</strong> Watch how these adjustments impact the chicken population over time.</li>\n",
    "        <li><strong>Discover the Dynamics:</strong> Notice the feedback loops and delays that characterize this system.</li>\n",
    "    </ul>\n",
    "    <p style=\"color: #6c757d; font-size: 16px;\">\n",
    "        By playing with these parameters, you'll gain insights into the principles of system dynamics and understand how even simple systems can exhibit complex behaviors. Enjoy your journey into the world of chickens and eggs!\n",
    "    </p>\n",
    "</div>\n"
   ]
  },
  {
   "cell_type": "code",
   "execution_count": null,
   "id": "3fffec3e",
   "metadata": {},
   "outputs": [],
   "source": [
    "!pip install pysd\n",
    "!pip install netCDF4\n",
    "!pip install voila --user"
   ]
  },
  {
   "cell_type": "code",
   "execution_count": null,
   "id": "44316690",
   "metadata": {},
   "outputs": [],
   "source": [
    "import os\n",
    "import pysd\n",
    "import itertools\n",
    "import pandas as pd\n",
    "import numpy as np\n",
    "import matplotlib.pyplot as plt\n",
    "import ipywidgets as widgets\n",
    "from IPython.display import display"
   ]
  },
  {
   "cell_type": "code",
   "execution_count": null,
   "id": "21d96fbc",
   "metadata": {},
   "outputs": [],
   "source": [
    "os.chdir(\"C:/Users/rss188/Desktop/Chicken model/SFD chicken model\")"
   ]
  },
  {
   "cell_type": "code",
   "execution_count": 27,
   "id": "0df971f5",
   "metadata": {
    "scrolled": true
   },
   "outputs": [],
   "source": [
    "def run_model(normal_fertility_rate, normal_death_risk, max_chicken_capacity, intial_chicken_population, initial_eggs_population):\n",
    "    \n",
    "    model= pysd.read_vensim(\"C:/Users/rss188/Desktop/Chicken model/SFD chicken model/SFD chicken model V2.mdl\")\n",
    "    params = {'Normal fertility rate': normal_fertility_rate, 'Normal death risk': normal_death_risk, 'Max chicken capacity': max_chicken_capacity, 'Initial chicken population':intial_chicken_population, 'Initial number of eggs':initial_eggs_population}\n",
    "    return_columns = ['Egg production','Eggs','Births', 'Chickens', 'Deaths']\n",
    "    return_timestamps = range(51)\n",
    "\n",
    "    results = model.run(params=params, return_columns=return_columns, return_timestamps=return_timestamps, initial_condition='current')\n",
    "    \n",
    " \n",
    "    results['Chickens'].plot(figsize=(10, 5))\n",
    "    results['Eggs'].plot(figsize=(10, 5))\n",
    "    plt.xlabel('Days')\n",
    "    plt.ylabel('Number of Chickens and Eggs')\n",
    "    plt.legend(loc='upper left', bbox_to_anchor=(1, 1))\n",
    "    plt.tight_layout()\n",
    "    plt.show()\n",
    "    \n",
    "    results['Births'].plot(figsize=(10, 5))\n",
    "    results['Deaths'].plot(figsize=(10, 5))\n",
    "    plt.xlabel('Days')\n",
    "    plt.ylabel('Number of Chickens per Day')\n",
    "    plt.legend(loc='upper left', bbox_to_anchor=(1, 1))\n",
    "    plt.tight_layout()\n",
    "    plt.show()   \n",
    "    \n",
    "    display(print(results.head(11)))\n",
    "    display(print(results.tail(11)))\n"
   ]
  },
  {
   "cell_type": "code",
   "execution_count": 28,
   "id": "f4b0782a",
   "metadata": {},
   "outputs": [
    {
     "data": {
      "application/vnd.jupyter.widget-view+json": {
       "model_id": "6cb105292d8948318044a11d6cb69ef4",
       "version_major": 2,
       "version_minor": 0
      },
      "text/plain": [
       "VBox(children=(FloatSlider(value=0.2, description='Normal Fertility Rate', layout=Layout(height='30px', width=…"
      ]
     },
     "metadata": {},
     "output_type": "display_data"
    }
   ],
   "source": [
    "# Define a layout for the sliders\n",
    "layout = widgets.Layout(width='30%', height='30px')\n",
    "\n",
    "# Custom style for descriptions with a specific width\n",
    "description_style = {'description_width': 'initial'}\n",
    "\n",
    "# Sliders with updated layout and optional style\n",
    "fertility_rate_slider = widgets.FloatSlider(\n",
    "    value=0.2, min=0, max=1, step=0.01,\n",
    "    description='Normal Fertility Rate',\n",
    "    layout=layout, style=description_style,\n",
    "    readout_format='.2f'\n",
    ")\n",
    "\n",
    "death_risk_slider = widgets.FloatSlider(\n",
    "    value=0.2, min=0, max=1.0, step=0.01,\n",
    "    description='Normal Death Risk',\n",
    "    layout=layout, style=description_style,\n",
    "    readout_format='.2f'\n",
    ")\n",
    "\n",
    "max_chicken_capacity_slider = widgets.FloatSlider(\n",
    "    value=1000, min=0, max=2000, step=10,\n",
    "    description='Max Chicken Capacity',\n",
    "    layout=layout, style=description_style\n",
    ")\n",
    "\n",
    "initial_chicken_population_slider = widgets.FloatSlider(\n",
    "    value=1000, min=0, max=4000, step=10,\n",
    "    description='Initial Chicken Population',\n",
    "    layout=layout, style=description_style\n",
    ")\n",
    "\n",
    "initial_eggs_population_slider = widgets.FloatSlider(\n",
    "    value=1000, min=0, max=2000, step=10,\n",
    "    description='Initial Number of Eggs',\n",
    "    layout=layout, style=description_style\n",
    ")\n",
    "\n",
    "# Interactive output\n",
    "output = widgets.interactive_output(run_model, {\n",
    "    'normal_fertility_rate': fertility_rate_slider, \n",
    "    'normal_death_risk': death_risk_slider, \n",
    "    'max_chicken_capacity': max_chicken_capacity_slider, \n",
    "    'intial_chicken_population': initial_chicken_population_slider,\n",
    "    'initial_eggs_population': initial_eggs_population_slider\n",
    "})\n",
    "\n",
    "# Display the widgets\n",
    "display(widgets.VBox([fertility_rate_slider, death_risk_slider, max_chicken_capacity_slider, \n",
    "              initial_chicken_population_slider, initial_eggs_population_slider, output]))"
   ]
  },
  {
   "cell_type": "code",
   "execution_count": null,
   "id": "c9380e80",
   "metadata": {},
   "outputs": [],
   "source": []
  },
  {
   "cell_type": "code",
   "execution_count": null,
   "id": "8c5c7da6",
   "metadata": {},
   "outputs": [],
   "source": []
  }
 ],
 "metadata": {
  "kernelspec": {
   "display_name": "Python 3 (ipykernel)",
   "language": "python",
   "name": "python3"
  },
  "language_info": {
   "codemirror_mode": {
    "name": "ipython",
    "version": 3
   },
   "file_extension": ".py",
   "mimetype": "text/x-python",
   "name": "python",
   "nbconvert_exporter": "python",
   "pygments_lexer": "ipython3",
   "version": "3.11.5"
  }
 },
 "nbformat": 4,
 "nbformat_minor": 5
}
