{
 "cells": [
  {
   "cell_type": "markdown",
   "id": "9a4cd787",
   "metadata": {},
   "source": [
    "<div style=\"font-family: 'Arial', sans-serif; margin: 20px; padding: 15px; background-color: #FFF3CD; border-left: 5px solid #FFECB3; border-radius: 5px;\">\n",
    "    <h2 style=\"color: #856404; font-size: 24px; margin-top: 0;\">🐔 Chickens and Eggs: A System Dynamics Model 🥚</h2>\n",
    "    <p style=\"color: #6c757d; font-size: 16px;\">\n",
    "        Welcome to the interactive <strong>Chickens and Eggs</strong> model! This tool was designed by Robinson Salazar Rua and Peter Hovmand to help you understand the fascinating dynamics of a chicken population.\n",
    "    </p>\n",
    "    <p style=\"color: #6c757d; font-size: 16px;\">\n",
    "        In this model, you'll explore how different factors, such as fertility rate, death risk, and capacity, affect the population of chickens in our virtual farm.\n",
    "    </p>\n",
    "    <h3 style=\"color: #856404; font-size: 18px;\"> Your Tasks:</h3>\n",
    "    <ul style=\"color: #6c757d; font-size: 16px;\">\n",
    "        <li><strong>Adjust the Parameters:</strong> Use the sliders to change the model initial conditions.</li>\n",
    "        <li><strong>Observe the Changes:</strong> Watch how these adjustments impact the chicken population over time.</li>\n",
    "        <li><strong>Discover the Dynamics:</strong> Notice the feedback loops and delays that characterize this system.</li>\n",
    "    </ul>\n",
    "    <p style=\"color: #6c757d; font-size: 16px;\">\n",
    "        By playing with these parameters, you'll gain insights into the principles of system dynamics and understand how even simple systems can exhibit complex behaviors. Enjoy your journey into the world of chickens and eggs!\n",
    "    </p>\n",
    "</div>\n"
   ]
  },
  {
   "cell_type": "code",
   "execution_count": null,
   "id": "3fffec3e",
   "metadata": {},
   "outputs": [],
   "source": [
    "!pip install pysd\n",
    "!pip install netCDF4\n",
    "!pip install voila --user"
   ]
  },
  {
   "cell_type": "code",
   "execution_count": null,
   "id": "44316690",
   "metadata": {},
   "outputs": [],
   "source": [
    "import os\n",
    "import pysd\n",
    "import itertools\n",
    "import pandas as pd\n",
    "import numpy as np\n",
    "import matplotlib.pyplot as plt\n",
    "import ipywidgets as widgets\n",
    "from ipywidgets import HBox, VBox, Layout\n",
    "from IPython.display import display"
   ]
  },
  {
   "cell_type": "code",
   "execution_count": null,
   "id": "21d96fbc",
   "metadata": {},
   "outputs": [],
   "source": [
    "os.chdir(\"C:/Users/rss188/Desktop/Chicken model/SFD chicken model\")"
   ]
  },
  {
   "cell_type": "code",
   "execution_count": null,
   "id": "0df971f5",
   "metadata": {
    "scrolled": true
   },
   "outputs": [],
   "source": [
    "def run_model(normal_fertility_rate, normal_death_risk, max_chicken_capacity, initial_chicken_population, initial_eggs_population):\n",
    "    \n",
    "    model= pysd.read_vensim(\"C:/Users/rss188/Desktop/Chicken model/SFD chicken model/SFD chicken model V2.mdl\")\n",
    "    params = {'Normal fertility rate': normal_fertility_rate, 'Normal death risk': normal_death_risk, 'Max chicken capacity': max_chicken_capacity, 'Initial chicken population':initial_chicken_population, 'Initial number of eggs':initial_eggs_population}\n",
    "    return_columns = ['Egg production','Eggs','Births', 'Chickens', 'Deaths']\n",
    "    return_timestamps = range(51)\n",
    "\n",
    "    results = model.run(params=params, return_columns=return_columns, return_timestamps=return_timestamps)\n",
    "    \n",
    " \n",
    "    results['Chickens'].plot(figsize=(10, 5))\n",
    "    results['Eggs'].plot(figsize=(10, 5))\n",
    "    plt.xlabel('Days')\n",
    "    plt.ylabel('Number of Chickens and Eggs')\n",
    "    plt.legend(loc='upper left', bbox_to_anchor=(1, 1))\n",
    "    plt.tight_layout()\n",
    "    plt.show()\n",
    "    \n",
    "    results['Births'].plot(figsize=(10, 5))\n",
    "    results['Deaths'].plot(figsize=(10, 5))\n",
    "    plt.xlabel('Days')\n",
    "    plt.ylabel('Number of Chickens per Day')\n",
    "    plt.legend(loc='upper left', bbox_to_anchor=(1, 1))\n",
    "    plt.tight_layout()\n",
    "    plt.show()   \n",
    "    \n",
    "    display(print(results.head(11)))\n",
    "    display(print(results.tail(11)))\n"
   ]
  },
  {
   "cell_type": "code",
   "execution_count": null,
   "id": "f4b0782a",
   "metadata": {},
   "outputs": [],
   "source": [
    "# Create a title widget\n",
    "title = widgets.HTML(\n",
    "    value=\"<h2>Parameters</h2>\",\n",
    "    layout=widgets.Layout(margin='0 0 15px 0')  # Adjust title margin as needed\n",
    ")\n",
    "\n",
    "# Common layout settings for all sliders\n",
    "slider_layout = widgets.Layout(width='70%', height='100px', margin='0 0 5px 0')\n",
    "\n",
    "# Slider style\n",
    "slider_style = {'handle_color': '#856404', 'description_width': 'initial'}\n",
    "\n",
    "# Create the sliders\n",
    "fertility_rate_slider = widgets.FloatSlider(\n",
    "    value=0.2, min=0, max=1, step=0.01,\n",
    "    description='Normal Fertility Rate', style=slider_style, layout=slider_layout\n",
    ")\n",
    "\n",
    "death_risk_slider = widgets.FloatSlider(\n",
    "    value=0.2, min=0, max=1.0, step=0.01,\n",
    "    description='Normal Death Risk', style=slider_style, layout=slider_layout\n",
    ")\n",
    "\n",
    "max_chicken_capacity_slider = widgets.FloatSlider(\n",
    "    value=1000, min=0, max=2000, step=10,\n",
    "    description='Max Chicken Capacity', style=slider_style, layout=slider_layout\n",
    ")\n",
    "\n",
    "initial_chicken_population_slider = widgets.FloatSlider(\n",
    "    value=1000, min=0, max=4000, step=10,\n",
    "    description='Initial Chicken Population', style=slider_style, layout=slider_layout\n",
    ")\n",
    "\n",
    "initial_eggs_population_slider = widgets.FloatSlider(\n",
    "    value=1000, min=0, max=2000, step=10,\n",
    "    description='Initial Number of Eggs', style=slider_style, layout=slider_layout\n",
    ")\n",
    "\n",
    "# Organize the sliders into two columns\n",
    "left_column = widgets.VBox([fertility_rate_slider, death_risk_slider, max_chicken_capacity_slider], layout=slider_layout)\n",
    "right_column = widgets.VBox([initial_chicken_population_slider, initial_eggs_population_slider], layout=slider_layout)\n",
    "\n",
    "# Display the columns side by side\n",
    "widgets.HBox([left_column, right_column])\n",
    "\n",
    "# Link sliders to the model function\n",
    "interactive_output_widget = widgets.interactive_output(run_model, {\n",
    "    'normal_fertility_rate': fertility_rate_slider,\n",
    "    'normal_death_risk': death_risk_slider,\n",
    "    'max_chicken_capacity': max_chicken_capacity_slider,\n",
    "    'initial_chicken_population': initial_chicken_population_slider,\n",
    "    'initial_eggs_population': initial_eggs_population_slider\n",
    "})\n",
    "\n",
    "# Display the widgets and the output\n",
    "display(title, HBox([left_column, right_column]), interactive_output_widget)"
   ]
  },
  {
   "cell_type": "code",
   "execution_count": null,
   "id": "173434c9",
   "metadata": {},
   "outputs": [],
   "source": []
  }
 ],
 "metadata": {
  "kernelspec": {
   "display_name": "Python 3 (ipykernel)",
   "language": "python",
   "name": "python3"
  },
  "language_info": {
   "codemirror_mode": {
    "name": "ipython",
    "version": 3
   },
   "file_extension": ".py",
   "mimetype": "text/x-python",
   "name": "python",
   "nbconvert_exporter": "python",
   "pygments_lexer": "ipython3",
   "version": "3.11.5"
  }
 },
 "nbformat": 4,
 "nbformat_minor": 5
}
